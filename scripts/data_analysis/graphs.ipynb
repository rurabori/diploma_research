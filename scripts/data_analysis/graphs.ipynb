{
 "cells": [
  {
   "cell_type": "code",
   "execution_count": 1,
   "metadata": {},
   "outputs": [],
   "source": [
    "\n",
    "import matplotlib.pyplot as plt\n",
    "%matplotlib inline\n",
    "import numpy as np\n"
   ]
  },
  {
   "cell_type": "code",
   "execution_count": 8,
   "metadata": {},
   "outputs": [
    {
     "name": "stdout",
     "output_type": "stream",
     "text": [
      "[65.2173913  67.96116505 60.         67.3555081 ] 65.13351611426224\n",
      "[92.30769231 91.20755104 88.55304327 82.63009845] 88.67459626871053\n",
      "1.3614280566882144\n"
     ]
    },
    {
     "data": {
      "image/png": "[encoded data removed]",
      "text/plain": [
       "<Figure size 432x288 with 1 Axes>"
      ]
     },
     "metadata": {
      "needs_background": "light"
     },
     "output_type": "display_data"
    }
   ],
   "source": [
    "scanf = np.array([0.276,\n",
    "                  13.081,\n",
    "                  25.000,\n",
    "                  69.779])\n",
    "\n",
    "scnlib = np.array([0.195,\n",
    "                   9.747,\n",
    "                   16.939,\n",
    "                   56.880])\n",
    "\n",
    "sizes = np.array([18, 889, 1500, 4700])\n",
    "\n",
    "scanf_throughput = sizes / scanf\n",
    "scnlib_throughput = sizes / scnlib\n",
    "\n",
    "scanf_avg_thr = np.average(scanf_throughput)\n",
    "scnlib_avg_thr = np.average(scnlib_throughput)\n",
    "\n",
    "print(scanf_throughput, scanf_avg_thr)\n",
    "print(scnlib_throughput, scnlib_avg_thr)\n",
    "\n",
    "print(scnlib_avg_thr / scanf_avg_thr)\n",
    "\n",
    "X_axis = np.arange(4)\n",
    "\n",
    "plt.bar(X_axis - 0.2, scnlib, 0.4, label='scnlib')\n",
    "plt.bar(X_axis + 0.2, scanf, 0.4, label='scanf')\n",
    "plt.xticks(X_axis, ['18MB', '889MB', '1.5GB', '4.7GB'])\n",
    "plt.xlabel(\"Size of matrix\")\n",
    "plt.ylabel(\"Loading time [s]\")\n",
    "plt.title(\"\")\n",
    "plt.legend()\n",
    "plt.savefig('MMEF_bench.png')\n",
    "plt.show()\n"
   ]
  }
 ],
 "metadata": {
  "interpreter": {
   "hash": "31f2aee4e71d21fbe5cf8b01ff0e069b9275f58929596ceb00d14d90e3e16cd6"
  },
  "kernelspec": {
   "display_name": "Python 3.8.10 64-bit",
   "language": "python",
   "name": "python3"
  },
  "language_info": {
   "codemirror_mode": {
    "name": "ipython",
    "version": 3
   },
   "file_extension": ".py",
   "mimetype": "text/x-python",
   "name": "python",
   "nbconvert_exporter": "python",
   "pygments_lexer": "ipython3",
   "version": "3.8.10"
  },
  "orig_nbformat": 4
 },
 "nbformat": 4,
 "nbformat_minor": 2
}
