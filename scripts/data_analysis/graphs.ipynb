{
 "cells": [
  {
   "cell_type": "code",
   "execution_count": 6,
   "metadata": {},
   "outputs": [],
   "source": [
    "\n",
    "import numpy as np\n",
    "import matplotlib.pyplot as plt\n",
    "%matplotlib inline\n"
   ]
  },
  {
   "cell_type": "code",
   "execution_count": 58,
   "metadata": {},
   "outputs": [],
   "source": [
    "input_files = ['../../resources/matrices/e40r5000.mtx',\n",
    "               '../../resources/matrices/Serena/Serena.mtx',\n",
    "               '../../resources/matrices/Flan_1565/Flan_1565.mtx',\n",
    "               '../../resources/matrices/nlpkkt200/nlpkkt200.mtx',\n",
    "               ]\n",
    "\n",
    "uns_input_files = ['../../resources/matrices/e40r5000.mtx',\n",
    "                   '../../resources/matrices/Serena/Serena.uns.mtx',\n",
    "                   '../../resources/matrices/Flan_1565/Flan_1565.uns.mtx',\n",
    "                   '../../resources/matrices/nlpkkt200/nlpkkt200.uns.mtx',\n",
    "                   ]\n",
    "\n",
    "h5_comp_files = ['../../resources/matrices/e40r5000.comp.csr.h5',\n",
    "                 '../../resources/matrices/Serena/Serena.comp.csr.h5',\n",
    "                 '../../resources/matrices/Flan_1565/Flan_1565.comp.csr.h5',\n",
    "                 '../../resources/matrices/nlpkkt200/nlpkkt200.comp.csr.h5',\n",
    "                 ]\n",
    "\n",
    "h5_input_files = [file.replace('.mtx', '.csr.h5') for file in input_files]\n"
   ]
  },
  {
   "cell_type": "code",
   "execution_count": 89,
   "metadata": {},
   "outputs": [
    {
     "data": {
      "image/png": "[encoded data removed]",
      "text/plain": [
       "<Figure size 432x288 with 1 Axes>"
      ]
     },
     "metadata": {
      "needs_background": "light"
     },
     "output_type": "display_data"
    }
   ],
   "source": [
    "import os\n",
    "from pathlib import Path\n",
    "\n",
    "\n",
    "def gen_sizes(paths):\n",
    "    return np.array([Path(file).stat().st_size for file in paths]) / (1024 * 1024)\n",
    "\n",
    "\n",
    "sizes = np.array([553956, 64531701, 117406044, 448225632])\n",
    "x_axis = np.arange(4)\n",
    "\n",
    "col_width = 0.15\n",
    "\n",
    "half_col = col_width / 2\n",
    "padding = 0.015\n",
    "\n",
    "offset = half_col + padding\n",
    "\n",
    "first_col_off = (half_col + padding/2)\n",
    "second_col_off = first_col_off + padding + 2*half_col\n",
    "\n",
    "h5_comp_sizes = gen_sizes(h5_comp_files)\n",
    "h5_sizes = gen_sizes(h5_input_files)\n",
    "mmef_sizes = gen_sizes(input_files)\n",
    "mmef_uns_sizes = gen_sizes(uns_input_files)\n",
    "\n",
    "plt.bar(x_axis - second_col_off, h5_comp_sizes, col_width, label='H5_comp')\n",
    "plt.bar(x_axis - first_col_off, h5_sizes, col_width, label='H5')\n",
    "plt.bar(x_axis + first_col_off, mmef_sizes, col_width, label='MMEF')\n",
    "plt.bar(x_axis + second_col_off, mmef_uns_sizes, col_width, label='MMEF_uns')\n",
    "\n",
    "plt.ylabel(\"On disk size [MiB]\")\n",
    "\n",
    "plt.xticks(x_axis, sizes)\n",
    "plt.xlabel(\"Size of matrix [#non-zero elements]\")\n",
    "\n",
    "plt.legend()\n",
    "\n",
    "plt.savefig('storage_sizes.png')\n",
    "plt.show()\n"
   ]
  },
  {
   "cell_type": "code",
   "execution_count": 102,
   "metadata": {},
   "outputs": [
    {
     "name": "stdout",
     "output_type": "stream",
     "text": [
      "[2007086.95652174 4933239.12544912 4696241.76       6423503.23163129] 4515017.76840054\n",
      "[2840800.         6620673.13019391 6931108.3298896  7880197.46835443] 6068194.732109485\n",
      "[4.58554589e+07 1.69578963e+08 8.12628881e+07 1.43326062e+08] 110005843.06783956\n",
      "[14290115.16529172 22136386.57040031 35580635.92545545 36292211.5047968 ] 27074837.29148607\n",
      "1.3440024033967786 24.36443192709948 18.12826514708737 4.063028777736437\n",
      "4.461761444177328 5.9966181043574105\n"
     ]
    },
    {
     "data": {
      "image/png": "[encoded data removed]",
      "text/plain": [
       "<Figure size 432x288 with 1 Axes>"
      ]
     },
     "metadata": {
      "needs_background": "light"
     },
     "output_type": "display_data"
    }
   ],
   "source": [
    "scanf = np.array([0.276,\n",
    "                  13.081,\n",
    "                  25.000,\n",
    "                  69.779])\n",
    "\n",
    "scnlib = np.array([0.195,\n",
    "                   9.747,\n",
    "                   16.939,\n",
    "                   56.880])\n",
    "\n",
    "h5 = np.array([0.012080481,\n",
    "               0.380540722,\n",
    "               1.444768292,\n",
    "               3.127314214])\n",
    "\n",
    "h5_comp = np.array([0.038764978,\n",
    "                    2.915186758,\n",
    "                    3.299717415,\n",
    "                    12.350463458])\n",
    "\n",
    "\n",
    "scanf_throughput = sizes / scanf\n",
    "scnlib_throughput = sizes / scnlib\n",
    "h5_throughput = sizes / h5\n",
    "h5_comp_throughput = sizes / h5_comp\n",
    "\n",
    "scanf_avg_thr = np.average(scanf_throughput)\n",
    "scnlib_avg_thr = np.average(scnlib_throughput)\n",
    "h5_avg_thr = np.average(h5_throughput)\n",
    "h5_comp_avg_thr = np.average(h5_comp_throughput)\n",
    "\n",
    "print(scanf_throughput, scanf_avg_thr)\n",
    "print(scnlib_throughput, scnlib_avg_thr)\n",
    "print(h5_throughput, h5_avg_thr)\n",
    "print(h5_comp_throughput, h5_comp_avg_thr)\n",
    "\n",
    "print(scnlib_avg_thr / scanf_avg_thr, h5_avg_thr /\n",
    "      scanf_avg_thr, h5_avg_thr / scnlib_avg_thr, h5_avg_thr / h5_comp_avg_thr)\n",
    "\n",
    "print(h5_comp_avg_thr / scnlib_avg_thr, h5_comp_avg_thr / scanf_avg_thr)\n",
    "\n",
    "X_axis = np.arange(4)\n",
    "\n",
    "plt.bar(X_axis - second_col_off, h5, col_width, label='h5')\n",
    "plt.bar(X_axis - first_col_off, h5_comp, col_width, label='h5_comp')\n",
    "plt.bar(X_axis + first_col_off, scnlib, col_width, label='scnlib')\n",
    "plt.bar(X_axis + second_col_off, scanf, col_width, label='scanf')\n",
    "plt.xticks(X_axis, sizes)\n",
    "plt.xlabel(\"Size of matrix [#non-zero elements]\")\n",
    "plt.ylabel(\"Loading time [s]\")\n",
    "plt.title(\"\")\n",
    "plt.legend()\n",
    "plt.savefig('matrix_loading.png')\n",
    "plt.show()\n"
   ]
  },
  {
   "cell_type": "code",
   "execution_count": 93,
   "metadata": {},
   "outputs": [
    {
     "name": "stdout",
     "output_type": "stream",
     "text": [
      "[   8.58882141  995.29504395 1803.41677094 6963.28601837]\n",
      "[  3.42625904 368.2189455  198.03269863 577.53638172]\n"
     ]
    },
    {
     "data": {
      "text/plain": [
       "array([ 2.50676359,  2.70299792,  9.10666159, 12.05687856])"
      ]
     },
     "metadata": {},
     "output_type": "display_data"
    },
    {
     "data": {
      "text/plain": [
       "array([4.89085959, 2.30146336, 7.7861422 , 7.81995158])"
      ]
     },
     "metadata": {},
     "output_type": "display_data"
    }
   ],
   "source": [
    "print(h5_sizes)\n",
    "print(h5_comp_sizes)\n",
    "\n",
    "display(h5_sizes / h5_comp_sizes)\n",
    "display(mmef_sizes / h5_comp_sizes)"
   ]
  }
 ],
 "metadata": {
  "interpreter": {
   "hash": "31f2aee4e71d21fbe5cf8b01ff0e069b9275f58929596ceb00d14d90e3e16cd6"
  },
  "kernelspec": {
   "display_name": "Python 3.8.10 64-bit",
   "language": "python",
   "name": "python3"
  },
  "language_info": {
   "codemirror_mode": {
    "name": "ipython",
    "version": 3
   },
   "file_extension": ".py",
   "mimetype": "text/x-python",
   "name": "python",
   "nbconvert_exporter": "python",
   "pygments_lexer": "ipython3",
   "version": "3.8.10"
  },
  "orig_nbformat": 4
 },
 "nbformat": 4,
 "nbformat_minor": 2
}
